{
 "cells": [
  {
   "cell_type": "markdown",
   "id": "955724bc",
   "metadata": {},
   "source": [
    "# Authors: \n",
    "**Alejandro C Parra** https://github.com/athanatos96\n",
    "\n",
    "\n",
    "**Atreish Ramlakhan** https://github.com/atreish\n",
    "\n",
    "**Ruslan Gokhman** https://github.com/Gokhman07"
   ]
  },
  {
   "cell_type": "code",
   "execution_count": null,
   "id": "aa6c709b",
   "metadata": {},
   "outputs": [],
   "source": []
  },
  {
   "cell_type": "markdown",
   "id": "97b41871",
   "metadata": {},
   "source": [
    "# 10. Regular Expression Matching\n",
    "\n",
    "\n",
    "Given an input string s and a pattern p, implement regular expression matching with support for '.' and '*' where:\n",
    "\n",
    "'.' Matches any single character.​​​​\n",
    "'*' Matches zero or more of the preceding element.\n",
    "The matching should cover the entire input string (not partial)."
   ]
  },
  {
   "cell_type": "code",
   "execution_count": 4,
   "id": "de93424f",
   "metadata": {},
   "outputs": [],
   "source": [
    "class Solution:\n",
    "    def isMatch(self, s: str, p: str) -> bool:\n",
    "        new_p = \"\"\n",
    "        leng = len(p)\n",
    "        for i in range(leng):\n",
    "            if p[i] == \"*\" and i > 0:\n",
    "                prev = p[i-1]\n",
    "                if prev in s or prev==\".\":\n",
    "                    new_p += p[i]\n",
    "                else:\n",
    "                    new_p = new_p[:-1]\n",
    "            else:\n",
    "                new_p += p[i]\n",
    "        #print(new_p)\n",
    "\n",
    "        ss = set(s)\n",
    "        for i in range( len(new_p)):\n",
    "            if i < len(new_p)-1 and new_p[i+1]==\"*\":\n",
    "                continue\n",
    "            elif new_p[i]==\"*\" or new_p[i]==\".\":\n",
    "                continue\n",
    "            else:\n",
    "                if new_p[i] not in ss:\n",
    "                    print(\"Fast False\")\n",
    "                    return False\n",
    "        if \".\" not in new_p:\n",
    "            for i in range (len(s)):\n",
    "                if s[i] not in new_p:\n",
    "                    return False\n",
    "\n",
    "\n",
    "        def pattern_empty(pattern):\n",
    "            #print(f\"pattern_empty: {pattern}\")\n",
    "            leng = len(pattern)\n",
    "            if leng==0:\n",
    "                return True\n",
    "            if leng==1:\n",
    "                return False\n",
    "            if pattern[1]==\"*\":\n",
    "                return pattern_empty(pattern[2:])\n",
    "            else:\n",
    "                return False\n",
    "\n",
    "\n",
    "        def mat(st, pa):\n",
    "            #print(f\"st: {st} | pa: {pa}\")\n",
    "            if st ==\"\" and pattern_empty(pa):\n",
    "                #print(\"Both Empty\")\n",
    "                return True\n",
    "            elif st != \"\" and pa == \"\":\n",
    "                #print(f\"PA Empty. S: {st} | P: {pa}\")\n",
    "                return False\n",
    "            elif st == \"\" and not pattern_empty(pa):\n",
    "                #print(f\"ST Empty. S: {st} | P: {pa}\")\n",
    "                return False\n",
    "\n",
    "            string_char = st[0]\n",
    "            pattern_char = pa[0]\n",
    "\n",
    "            if len(pa) > 1:\n",
    "                asterisk = pa[1] == \"*\"\n",
    "            else:\n",
    "                asterisk = False\n",
    "\n",
    "            if pattern_char == \".\" or string_char == pattern_char:\n",
    "                if asterisk:\n",
    "                    res = mat(st[1:], pa[2:]) or mat(st, pa[2:]) or mat(st[1:], pa) \n",
    "                else:\n",
    "                    res = mat(st[1:], pa[1:])\n",
    "                return res\n",
    "            else:\n",
    "                if asterisk:\n",
    "                    return mat(st, pa[2:])\n",
    "                else:\n",
    "                    return False\n",
    "\n",
    "        return mat(s, new_p)"
   ]
  },
  {
   "cell_type": "code",
   "execution_count": 6,
   "id": "b5799e8a",
   "metadata": {},
   "outputs": [
    {
     "name": "stdout",
     "output_type": "stream",
     "text": [
      "S: aa, P: a, is a Match: False\n",
      "S: aa, P: a*, is a Match: True\n",
      "S: ab, P: .*, is a Match: True\n"
     ]
    }
   ],
   "source": [
    "solver = Solution\n",
    "\n",
    "s = \"aa\"\n",
    "p = \"a\"\n",
    "print(f\"S: {s}, P: {p}, is a Match: {solver.isMatch(solver, s, p)}\")\n",
    "\n",
    "s = \"aa\"\n",
    "p = \"a*\"\n",
    "print(f\"S: {s}, P: {p}, is a Match: {solver.isMatch(solver, s, p)}\")\n",
    "\n",
    "s = \"ab\"\n",
    "p = \".*\"\n",
    "print(f\"S: {s}, P: {p}, is a Match: {solver.isMatch(solver, s, p)}\")"
   ]
  },
  {
   "attachments": {
    "image.png": {
     "image/png": "[encoded data removed]"
    }
   },
   "cell_type": "markdown",
   "id": "0ecaedca",
   "metadata": {},
   "source": [
    "![image.png](attachment:image.png)"
   ]
  },
  {
   "cell_type": "code",
   "execution_count": null,
   "id": "1af3fb91",
   "metadata": {},
   "outputs": [],
   "source": []
  }
 ],
 "metadata": {
  "kernelspec": {
   "display_name": "Python 3 (ipykernel)",
   "language": "python",
   "name": "python3"
  },
  "language_info": {
   "codemirror_mode": {
    "name": "ipython",
    "version": 3
   },
   "file_extension": ".py",
   "mimetype": "text/x-python",
   "name": "python",
   "nbconvert_exporter": "python",
   "pygments_lexer": "ipython3",
   "version": "3.8.13"
  }
 },
 "nbformat": 4,
 "nbformat_minor": 5
}

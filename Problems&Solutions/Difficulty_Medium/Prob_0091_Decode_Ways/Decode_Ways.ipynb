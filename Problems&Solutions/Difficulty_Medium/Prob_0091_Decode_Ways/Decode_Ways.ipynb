{
 "cells": [
  {
   "cell_type": "markdown",
   "id": "058feaf8",
   "metadata": {},
   "source": [
    "# Authors: \n",
    "**Alejandro C Parra** https://github.com/athanatos96\n",
    "\n",
    "\n",
    "**Atreish Ramlakhan** https://github.com/atreish\n",
    "\n",
    "\n",
    "**Ruslan Gokhman** https://github.com/Gokhman07"
   ]
  },
  {
   "cell_type": "code",
   "execution_count": 1,
   "id": "251f3f58",
   "metadata": {},
   "outputs": [],
   "source": [
    "from typing import List"
   ]
  },
  {
   "attachments": {},
   "cell_type": "markdown",
   "id": "a7728a26",
   "metadata": {},
   "source": [
    "# 91. Decode Ways\n",
    "\n",
    "A message containing letters from A-Z can be encoded into numbers using the following mapping:\n",
    "\n",
    "\n",
    "'A' -> \"1\"\n",
    "\n",
    "'B' -> \"2\"\n",
    "\n",
    "...\n",
    "\n",
    "'Z' -> \"26\"\n",
    "\n",
    "\n",
    "To decode an encoded message, all the digits must be grouped then mapped back into letters using the reverse of the mapping above (there may be multiple ways). For example, \"11106\" can be mapped into:\n",
    "\n",
    "+ \"AAJF\" with the grouping (1 1 10 6)\n",
    "+ \"KJF\" with the grouping (11 10 6)\n",
    "\n",
    "Note that the grouping (1 11 06) is invalid because \"06\" cannot be mapped into 'F' since \"6\" is different from \"06\".\n",
    "\n",
    "Given a string s containing only digits, return the number of ways to decode it.\n",
    "\n",
    "The test cases are generated so that the answer fits in a 32-bit integer."
   ]
  },
  {
   "cell_type": "markdown",
   "id": "d2f613c4",
   "metadata": {},
   "source": [
    "## Option 1, Slow"
   ]
  },
  {
   "cell_type": "code",
   "execution_count": 7,
   "id": "420baef3",
   "metadata": {},
   "outputs": [],
   "source": [
    "class Solution:\n",
    "    def numDecodings(self, s: str) -> int:\n",
    "        def func(word):\n",
    "            output = []\n",
    "            paths_fin = 0\n",
    "\n",
    "            # The first letter cannot be a 0\n",
    "            if word[0] == \"0\":\n",
    "                return (output, paths_fin)\n",
    "\n",
    "            word_len = len(word)\n",
    "\n",
    "            # Case of 1 number\n",
    "            if word_len == 1:\n",
    "                # Only 1 number, we have finished\n",
    "                paths_fin +=1\n",
    "            else:\n",
    "                # If not only 1 number, we add the rest of the word\n",
    "                output.append(word[1:])\n",
    "            \n",
    "            # to evaluate 2 numbers letter, we need to check that there are\n",
    "            # at least 2 numbers, and they are 26 or smaller\n",
    "            if len(word)>=2 and int(word[0:2]) <= 26:\n",
    "                if word_len == 2:\n",
    "                    # Only 2 number, we have finished\n",
    "                    paths_fin +=1\n",
    "                else:\n",
    "                    # If not only 2 number, we add the rest of the word\n",
    "                    output.append(word[2:])\n",
    "            \n",
    "            return (output, paths_fin)\n",
    "\n",
    "\n",
    "        # Stack of pending words\n",
    "        list_of_words = [s] \n",
    "        paths = 0\n",
    "        if len(list_of_words)==0: return 0\n",
    "\n",
    "        # Iterate until empty stack\n",
    "\n",
    "        while 0 < len(list_of_words):\n",
    "            #print(list_of_words,paths)\n",
    "\n",
    "            # Extract the first element\n",
    "            elem = list_of_words.pop(0)\n",
    "            #print(type(list_of_words))\n",
    "\n",
    "            # Evaluate the begining of the word\n",
    "            new_words, finished_paths = func(elem)\n",
    "            #print(\"after func\")\n",
    "\n",
    "            # increase the paths, by the amount of finished paths\n",
    "            paths += finished_paths\n",
    "\n",
    "            # add the new words to the list\n",
    "            list_of_words.extend(new_words)\n",
    "        \n",
    "        #print(f\"Total: {paths}\")\n",
    "        return paths"
   ]
  },
  {
   "cell_type": "code",
   "execution_count": 8,
   "id": "8e2cb130",
   "metadata": {},
   "outputs": [
    {
     "name": "stdout",
     "output_type": "stream",
     "text": [
      "s: 12, Output: 2\n",
      "s: 226, Output: 3\n",
      "s: 06, Output: 0\n"
     ]
    }
   ],
   "source": [
    "solver = Solution\n",
    "\n",
    "s = \"12\"\n",
    "print(f\"s: {s}, Output: {solver.numDecodings(solver, s)}\")\n",
    "\n",
    "s = \"226\"\n",
    "print(f\"s: {s}, Output: {solver.numDecodings(solver, s)}\")\n",
    "\n",
    "s = \"06\"\n",
    "print(f\"s: {s}, Output: {solver.numDecodings(solver, s)}\")\n"
   ]
  },
  {
   "cell_type": "code",
   "execution_count": 16,
   "id": "52afa50e",
   "metadata": {},
   "outputs": [
    {
     "name": "stdout",
     "output_type": "stream",
     "text": [
      "started at 2023-02-22 16:23:36.518313\n",
      "s: 111111111111111111111111111, Output: 317811\n",
      "ended at 2023-02-22 16:23:50.944760\n",
      "time elapsed: 0:00:14.426447\n"
     ]
    }
   ],
   "source": [
    "import datetime\n",
    "\n",
    "t1 = datetime.datetime.now()\n",
    "print(f\"started at {t1}\")\n",
    "\n",
    "s = \"111111111111111111111111111\"\n",
    "print(f\"s: {s}, Output: {solver.numDecodings(solver, s)}\")\n",
    "\n",
    "# show time elapsed after transcription is complete.\n",
    "t2 = datetime.datetime.now()\n",
    "print(f\"ended at {t2}\")\n",
    "print(f\"time elapsed: {t2 - t1}\")"
   ]
  },
  {
   "cell_type": "markdown",
   "id": "4e03f5c4",
   "metadata": {},
   "source": [
    "## Option 2, Fast"
   ]
  },
  {
   "cell_type": "code",
   "execution_count": 17,
   "id": "3d1a2f01",
   "metadata": {},
   "outputs": [],
   "source": [
    "class Solution:\n",
    "    def numDecodings(self, s: str) -> int:\n",
    "        # if the first character is '0', return 0\n",
    "        if not s or s[0] == '0': \n",
    "            return 0\n",
    "        n = len(s)\n",
    "        # create an array of length n + 1 to store number of ways\n",
    "        dp = [0] * (n + 1) \n",
    "        # initialize the first two elements as 1, as there is 1 way to decode empty string and 1 character\n",
    "        dp[0] = 1 \n",
    "        dp[1] = 1\n",
    "        for i in range(2, n + 1):\n",
    "            # if current character is not '0', then it can be a single digit\n",
    "            if s[i - 1] != '0':\n",
    "                # add the number of ways to decode the substring ending at i - 1\n",
    "                dp[i] += dp[i - 1] \n",
    "            # if the current and previous character together can be decoded\n",
    "            if s[i - 2] == '1' or (s[i - 2] == '2' and s[i - 1] <= '6'): \n",
    "                # add the number of ways to decode the substring ending at i - 2\n",
    "                dp[i] += dp[i - 2] \n",
    "        # return the number of ways to decode the complete string\n",
    "        return dp[n] "
   ]
  },
  {
   "cell_type": "code",
   "execution_count": 18,
   "id": "c19be84f",
   "metadata": {},
   "outputs": [
    {
     "name": "stdout",
     "output_type": "stream",
     "text": [
      "s: 12, Output: 2\n",
      "s: 226, Output: 3\n",
      "s: 06, Output: 0\n"
     ]
    }
   ],
   "source": [
    "solver = Solution\n",
    "\n",
    "s = \"12\"\n",
    "print(f\"s: {s}, Output: {solver.numDecodings(solver, s)}\")\n",
    "\n",
    "s = \"226\"\n",
    "print(f\"s: {s}, Output: {solver.numDecodings(solver, s)}\")\n",
    "\n",
    "s = \"06\"\n",
    "print(f\"s: {s}, Output: {solver.numDecodings(solver, s)}\")"
   ]
  },
  {
   "cell_type": "code",
   "execution_count": 19,
   "id": "ba36d3ad",
   "metadata": {},
   "outputs": [
    {
     "name": "stdout",
     "output_type": "stream",
     "text": [
      "started at 2023-02-22 16:23:51.001573\n",
      "s: 111111111111111111111111111, Output: 317811\n",
      "ended at 2023-02-22 16:23:51.001573\n",
      "time elapsed: 0:00:00\n"
     ]
    }
   ],
   "source": [
    "import datetime\n",
    "\n",
    "t1 = datetime.datetime.now()\n",
    "print(f\"started at {t1}\")\n",
    "\n",
    "s = \"111111111111111111111111111\"\n",
    "print(f\"s: {s}, Output: {solver.numDecodings(solver, s)}\")\n",
    "\n",
    "# show time elapsed after transcription is complete.\n",
    "t2 = datetime.datetime.now()\n",
    "print(f\"ended at {t2}\")\n",
    "print(f\"time elapsed: {t2 - t1}\")"
   ]
  },
  {
   "attachments": {
    "image-6.png": {
     "image/png": "[encoded data removed]"
    }
   },
   "cell_type": "markdown",
   "id": "6f83f54a",
   "metadata": {},
   "source": [
    "![image-6.png](attachment:image-6.png)"
   ]
  },
  {
   "cell_type": "code",
   "execution_count": null,
   "id": "e743e6ca",
   "metadata": {},
   "outputs": [],
   "source": []
  }
 ],
 "metadata": {
  "kernelspec": {
   "display_name": "Python 3 (ipykernel)",
   "language": "python",
   "name": "python3"
  },
  "language_info": {
   "codemirror_mode": {
    "name": "ipython",
    "version": 3
   },
   "file_extension": ".py",
   "mimetype": "text/x-python",
   "name": "python",
   "nbconvert_exporter": "python",
   "pygments_lexer": "ipython3",
   "version": "3.8.15"
  }
 },
 "nbformat": 4,
 "nbformat_minor": 5
}

{
 "cells": [
  {
   "cell_type": "markdown",
   "id": "1c19130f",
   "metadata": {},
   "source": [
    "# Authors: \n",
    "**Alejandro C Parra** https://github.com/athanatos96\n",
    "\n",
    "\n",
    "**Atreish Ramlakhan** https://github.com/atreish\n",
    "\n",
    "\n",
    "**Ruslan Gokhman** https://github.com/Gokhman07"
   ]
  },
  {
   "cell_type": "code",
   "execution_count": 2,
   "id": "e798120f",
   "metadata": {},
   "outputs": [],
   "source": [
    "from typing import List"
   ]
  },
  {
   "cell_type": "markdown",
   "id": "804fa72f",
   "metadata": {},
   "source": [
    "# 22. Generate Parentheses\n",
    "\n",
    "Given n pairs of parentheses, write a function to generate all combinations of well-formed parentheses.\n",
    "\n"
   ]
  },
  {
   "cell_type": "code",
   "execution_count": 3,
   "id": "ad9da7c5",
   "metadata": {},
   "outputs": [],
   "source": [
    "class Solution:\n",
    "    def generateParenthesis(self, n: int) -> List[str]:\n",
    "        \n",
    "        res = []\n",
    "        \n",
    "        def dfs (l, r, path, res):\n",
    "            \n",
    "            if r < l or l == -1 or r == -1:\n",
    "                return\n",
    "            \n",
    "            #breaking condition\n",
    "            if l == 0 and r == 0:\n",
    "                res.append(path[:])\n",
    "            \n",
    "            #recursion where we are adding parenthesis to each solution\n",
    "            else:\n",
    "                dfs(l-1, r, path + \"(\", res)\n",
    "                dfs(l, r-1, path + \")\", res)\n",
    "                \n",
    "        #return the solution where left = right = n        \n",
    "        dfs(n, n, \"\", res)\n",
    "        \n",
    "        return res"
   ]
  },
  {
   "cell_type": "code",
   "execution_count": 8,
   "id": "04b3f300",
   "metadata": {},
   "outputs": [
    {
     "name": "stdout",
     "output_type": "stream",
     "text": [
      "Number: 4 -- > Output: ['(((())))', '((()()))', '((())())', '((()))()', '(()(()))', '(()()())', '(()())()', '(())(())', '(())()()', '()((()))', '()(()())', '()(())()', '()()(())', '()()()()']\n",
      "Number: 3 -- > Output: ['((()))', '(()())', '(())()', '()(())', '()()()']\n",
      "Number: 2 -- > Output: ['(())', '()()']\n",
      "Number: 1 -- > Output: ['()']\n"
     ]
    }
   ],
   "source": [
    "solver = Solution\n",
    "\n",
    "n = 4\n",
    "print(f\"Number: {n} -- > Output: {solver.generateParenthesis(solver, n)}\")\n",
    "\n",
    "n = 3\n",
    "print(f\"Number: {n} -- > Output: {solver.generateParenthesis(solver, n)}\")\n",
    "\n",
    "n = 2\n",
    "print(f\"Number: {n} -- > Output: {solver.generateParenthesis(solver, n)}\")\n",
    "\n",
    "n = 1\n",
    "print(f\"Number: {n} -- > Output: {solver.generateParenthesis(solver, n)}\")"
   ]
  },
  {
   "cell_type": "code",
   "execution_count": null,
   "id": "9eb8c15f",
   "metadata": {},
   "outputs": [],
   "source": []
  }
 ],
 "metadata": {
  "kernelspec": {
   "display_name": "Python 3 (ipykernel)",
   "language": "python",
   "name": "python3"
  },
  "language_info": {
   "codemirror_mode": {
    "name": "ipython",
    "version": 3
   },
   "file_extension": ".py",
   "mimetype": "text/x-python",
   "name": "python",
   "nbconvert_exporter": "python",
   "pygments_lexer": "ipython3",
   "version": "3.8.13"
  }
 },
 "nbformat": 4,
 "nbformat_minor": 5
}

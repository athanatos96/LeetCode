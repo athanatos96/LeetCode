{
  "cells": [
    {
      "cell_type": "markdown",
      "source": [
        "# Authors: \n",
        "**Alejandro C Parra** https://github.com/athanatos96\n",
        "\n",
        "\n",
        "**Atreish Ramlakhan** https://github.com/atreish\n"
      ],
      "metadata": {
        "id": "9glGX6_yxEi9"
      },
      "id": "9glGX6_yxEi9"
    },
    {
      "cell_type": "code",
      "execution_count": null,
      "id": "69ef79c2",
      "metadata": {
        "id": "69ef79c2"
      },
      "outputs": [],
      "source": []
    },
    {
      "cell_type": "markdown",
      "id": "8d47baff",
      "metadata": {
        "id": "8d47baff"
      },
      "source": [
        "1. Two Sum\n",
        "\n",
        "Given an array of integers nums and an integer target, return indices of the two numbers such that they add up to target. You may assume that each input would have exactly one solution, and you may not use the same element twice. You can return the answer in any order."
      ]
    },
    {
      "cell_type": "code",
      "execution_count": null,
      "id": "05e2cf5f",
      "metadata": {
        "id": "05e2cf5f"
      },
      "outputs": [],
      "source": [
        "'''Here a class is created with one function that executes the desired function. First we ensure that the \n",
        "input is in the form of a list of int values. This is acheived by importing List form the typing module. Then\n",
        "we run a double loop.'''\n",
        "\n",
        "from typing import List\n",
        "\n",
        "class Solution:\n",
        "    \n",
        "    def twoSum(self, nums: List[int], target: int) -> List[int]:\n",
        "        length = len(nums)\n",
        "        for i in range(length):\n",
        "            for z in range(length - (i+1)):\n",
        "                j = i + z + 1 \n",
        "                if (target == (nums[i]+nums[j])):\n",
        "                    return ([i,j])"
      ]
    },
    {
      "cell_type": "code",
      "execution_count": null,
      "id": "d0dd8e74",
      "metadata": {
        "id": "d0dd8e74"
      },
      "outputs": [],
      "source": [
        "solver = Solution\n",
        "n = [1,2,3,4,5,6,7,8,9,10]"
      ]
    },
    {
      "cell_type": "code",
      "execution_count": null,
      "id": "5804fd6a",
      "metadata": {
        "id": "5804fd6a",
        "outputId": "19a8360f-dac3-4253-ca17-d6aef1eb6458"
      },
      "outputs": [
        {
          "name": "stdout",
          "output_type": "stream",
          "text": [
            "Sum Equal to 0 = to None\n",
            "Sum Equal to 1 = to None\n",
            "Sum Equal to 2 = to None\n",
            "Sum Equal to 3 = to [0, 1]\n",
            "Sum Equal to 4 = to [0, 2]\n",
            "Sum Equal to 5 = to [0, 3]\n",
            "Sum Equal to 6 = to [1, 3]\n",
            "Sum Equal to 7 = to [2, 3]\n",
            "Sum Equal to 8 = to None\n",
            "Sum Equal to 9 = to None\n"
          ]
        }
      ],
      "source": [
        "for i in range(10):\n",
        "    print('Sum Equal to {} = to {}'.format(i, solver.twoSum(solver, nums=n, target=i)))"
      ]
    },
    {
      "cell_type": "code",
      "execution_count": null,
      "id": "a1f5566c",
      "metadata": {
        "id": "a1f5566c"
      },
      "outputs": [],
      "source": []
    },
    {
      "cell_type": "code",
      "execution_count": null,
      "id": "eb2ee226",
      "metadata": {
        "id": "eb2ee226"
      },
      "outputs": [],
      "source": []
    }
  ],
  "metadata": {
    "kernelspec": {
      "display_name": "Python 3 (ipykernel)",
      "language": "python",
      "name": "python3"
    },
    "language_info": {
      "codemirror_mode": {
        "name": "ipython",
        "version": 3
      },
      "file_extension": ".py",
      "mimetype": "text/x-python",
      "name": "python",
      "nbconvert_exporter": "python",
      "pygments_lexer": "ipython3",
      "version": "3.8.2"
    },
    "colab": {
      "provenance": []
    }
  },
  "nbformat": 4,
  "nbformat_minor": 5
}
{
 "cells": [
  {
   "cell_type": "markdown",
   "id": "1ed55d0d",
   "metadata": {},
   "source": [
    "# Authors: \n",
    "**Alejandro C Parra** https://github.com/athanatos96\n",
    "\n",
    "\n",
    "**Atreish Ramlakhan** https://github.com/atreish\n",
    "\n",
    "\n",
    "**Ruslan Gokhman** https://github.com/Gokhman07"
   ]
  },
  {
   "cell_type": "code",
   "execution_count": 1,
   "id": "074265d4",
   "metadata": {},
   "outputs": [],
   "source": [
    "from typing import Optional"
   ]
  },
  {
   "cell_type": "markdown",
   "id": "c76bf32c",
   "metadata": {},
   "source": [
    "# 101. Symmetric Tree\n",
    "\n",
    "Given the root of a binary tree, check whether it is a mirror of itself (i.e., symmetric around its center)."
   ]
  },
  {
   "cell_type": "code",
   "execution_count": 2,
   "id": "3e8a1860",
   "metadata": {},
   "outputs": [],
   "source": [
    "# Definition for a binary tree node.\n",
    "class TreeNode:\n",
    "    def __init__(self, val=0, left=None, right=None):\n",
    "        self.val = val\n",
    "        self.left = left\n",
    "        self.right = right\n",
    "class Solution:\n",
    "    def isSymmetric(self, root: Optional[TreeNode]) -> bool:\n",
    "        if not root:\n",
    "            return True\n",
    "        stack = [(root.left, root.right)]\n",
    "        while stack:\n",
    "            l, r = stack.pop()\n",
    "            if not l and not r:\n",
    "                continue\n",
    "            if not l or not r:\n",
    "                return False\n",
    "            if l.val != r.val:\n",
    "                return False\n",
    "            stack.append((l.left, r.right))\n",
    "            stack.append((l.right, r.left))\n",
    "        return True"
   ]
  },
  {
   "cell_type": "code",
   "execution_count": 5,
   "id": "18c49d9f",
   "metadata": {},
   "outputs": [],
   "source": [
    "'''To be able to test a tree, first we need to convert a list of values into a TreeNode class datatype\n",
    "which is completed with the code in this block'''\n",
    "\n",
    "def creatBTree(data, index=0):\n",
    "        pNode = None\n",
    "        if index < len(data):\n",
    "            if data[index] == None:\n",
    "                return\n",
    "            pNode = TreeNode(data[index])\n",
    "            pNode.left = creatBTree(data, 2 * index + 1) \n",
    "            pNode.right = creatBTree(data, 2 * index + 2) \n",
    "        return pNode \n",
    "\n",
    "def create_list(tree, templist=[]):\n",
    "    \"\"\"\n",
    "    >>> tree = BinaryTree(2, BinaryTree(29, BinaryTree(26)), BinaryTree(4, None, BinaryTree(2, BinaryTree(9))))\n",
    "    >>> create_list(tree)\n",
    "    [2, 29, 4, 26, None, None, 2, None, None, None, None, None, None, 9, None]\n",
    "\n",
    "    \"\"\"\n",
    "    items = []\n",
    "    queue = [tree]\n",
    "\n",
    "    while queue:\n",
    "        copy = queue[:]\n",
    "        queue = []\n",
    "\n",
    "        for item in copy:\n",
    "            if item is None:\n",
    "                items.append(None)\n",
    "                queue.append(None)\n",
    "                queue.append(None)\n",
    "            else:\n",
    "                items.append(item.val)\n",
    "                queue.append(item.left)\n",
    "                queue.append(item.right)\n",
    "\n",
    "        if all((x is None for x in queue)):\n",
    "            break\n",
    "\n",
    "    return items"
   ]
  },
  {
   "cell_type": "code",
   "execution_count": 9,
   "id": "d7d61a93",
   "metadata": {},
   "outputs": [
    {
     "name": "stdout",
     "output_type": "stream",
     "text": [
      "root: [1, 2, 2, 3, 4, 4, 3], Output: True\n",
      "root: [1, 2, 2, None, 3, None, 3], Output: False\n"
     ]
    }
   ],
   "source": [
    "solver = Solution\n",
    "\n",
    "root = creatBTree([1,2,2,3,4,4,3])\n",
    "print(f\"root: {create_list(root)}, Output: {solver.isSymmetric(solver, root)}\")\n",
    "\n",
    "root = creatBTree([1,2,2,None,3,None,3])\n",
    "print(f\"root: {create_list(root)}, Output: {solver.isSymmetric(solver, root)}\")"
   ]
  },
  {
   "attachments": {
    "image.png": {
     "image/png": "[encoded data removed]"
    }
   },
   "cell_type": "markdown",
   "id": "0cdce3f1",
   "metadata": {},
   "source": [
    "![image.png](attachment:image.png)"
   ]
  },
  {
   "cell_type": "markdown",
   "id": "965435fc",
   "metadata": {},
   "source": [
    "Links:\n",
    "\n",
    "https://stackoverflow.com/questions/58896039/how-do-i-make-treenode-from-list-by-python"
   ]
  }
 ],
 "metadata": {
  "kernelspec": {
   "display_name": "Python 3 (ipykernel)",
   "language": "python",
   "name": "python3"
  },
  "language_info": {
   "codemirror_mode": {
    "name": "ipython",
    "version": 3
   },
   "file_extension": ".py",
   "mimetype": "text/x-python",
   "name": "python",
   "nbconvert_exporter": "python",
   "pygments_lexer": "ipython3",
   "version": "3.8.13"
  }
 },
 "nbformat": 4,
 "nbformat_minor": 5
}

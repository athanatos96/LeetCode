{
 "cells": [
  {
   "cell_type": "markdown",
   "id": "b9b50dfa",
   "metadata": {},
   "source": [
    "# Authors: \n",
    "**Alejandro C Parra** https://github.com/athanatos96\n",
    "\n",
    "\n",
    "**Atreish Ramlakhan** https://github.com/atreish\n",
    "\n",
    "\n",
    "**Ruslan Gokhman** https://github.com/Gokhman07"
   ]
  },
  {
   "cell_type": "code",
   "execution_count": 3,
   "id": "88d3c6d4",
   "metadata": {},
   "outputs": [],
   "source": [
    "from typing import Optional"
   ]
  },
  {
   "cell_type": "markdown",
   "id": "c7211059",
   "metadata": {},
   "source": [
    "# 94. Binary Tree Inorder Traversal\n",
    "Given the root of a binary tree, return the inorder traversal of its nodes' values."
   ]
  },
  {
   "cell_type": "code",
   "execution_count": 4,
   "id": "22b87c89",
   "metadata": {},
   "outputs": [],
   "source": [
    "# Definition for a binary tree node.\n",
    "class TreeNode:\n",
    "    def __init__(self, val=0, left=None, right=None):\n",
    "        self.val = val\n",
    "        self.left = left\n",
    "        self.right = right\n",
    "class Solution:\n",
    "    def inorderTraversal(self, root: Optional[TreeNode]) -> List[int]:\n",
    "        tree_vals = []\n",
    "        \n",
    "        def inorder(tree):\n",
    "            if tree:\n",
    "                inorder(tree.left)\n",
    "                tree_vals.append(tree.val)\n",
    "                inorder(tree.right)\n",
    "                \n",
    "        inorder(root)\n",
    "        \n",
    "        return tree_vals"
   ]
  },
  {
   "cell_type": "code",
   "execution_count": 12,
   "id": "cb0dcc14",
   "metadata": {},
   "outputs": [],
   "source": [
    "def creatBTree(data, index=0):\n",
    "    pNode = None\n",
    "    if index < len(data):\n",
    "        if data[index] == None:\n",
    "            return\n",
    "        pNode = TreeNode(data[index])\n",
    "        pNode.left = creatBTree(data, 2 * index + 1) \n",
    "        pNode.right = creatBTree(data, 2 * index + 2) \n",
    "    return pNode \n",
    "\n",
    "def create_list(tree, templist=[]):\n",
    "    \"\"\"\n",
    "    >>> tree = BinaryTree(2, BinaryTree(29, BinaryTree(26)), BinaryTree(4, None, BinaryTree(2, BinaryTree(9))))\n",
    "    >>> create_list(tree)\n",
    "    [2, 29, 4, 26, None, None, 2, None, None, None, None, None, None, 9, None]\n",
    "\n",
    "    \"\"\"\n",
    "    items = []\n",
    "    queue = [tree]\n",
    "\n",
    "    while queue:\n",
    "        copy = queue[:]\n",
    "        queue = []\n",
    "\n",
    "        for item in copy:\n",
    "            if item is None:\n",
    "                items.append(None)\n",
    "                queue.append(None)\n",
    "                queue.append(None)\n",
    "            else:\n",
    "                items.append(item.val)\n",
    "                queue.append(item.left)\n",
    "                queue.append(item.right)\n",
    "\n",
    "        if all((x is None for x in queue)):\n",
    "            break\n",
    "\n",
    "    return items"
   ]
  },
  {
   "cell_type": "code",
   "execution_count": 13,
   "id": "8e783e03",
   "metadata": {},
   "outputs": [],
   "source": [
    "root = creatBTree([1,2,2,3,4,4,3])"
   ]
  },
  {
   "cell_type": "code",
   "execution_count": 16,
   "id": "e49d6795",
   "metadata": {},
   "outputs": [
    {
     "name": "stdout",
     "output_type": "stream",
     "text": [
      "root: [1, None, 2], Output: [1, 2]\n",
      "root: [None], Output: []\n",
      "root: [1], Output: [1]\n",
      "root: [1, 2, 2, 3, 4, 4, 3], Output: [3, 2, 4, 1, 4, 2, 3]\n"
     ]
    }
   ],
   "source": [
    "solver = Solution\n",
    "\n",
    "root = creatBTree([1,None,2,3])\n",
    "print(f\"root: {create_list(root)}, Output: {solver.inorderTraversal(solver, root)}\")\n",
    "\n",
    "root = creatBTree([])\n",
    "print(f\"root: {create_list(root)}, Output: {solver.inorderTraversal(solver, root)}\")\n",
    "\n",
    "root = creatBTree([1])\n",
    "print(f\"root: {create_list(root)}, Output: {solver.inorderTraversal(solver, root)}\")\n",
    "\n",
    "root = creatBTree([1,2,2,3,4,4,3])\n",
    "print(f\"root: {create_list(root)}, Output: {solver.inorderTraversal(solver, root)}\")\n"
   ]
  },
  {
   "attachments": {
    "image.png": {
     "image/png": "[encoded data removed]"
    }
   },
   "cell_type": "markdown",
   "id": "a9565e08",
   "metadata": {},
   "source": [
    "![image.png](attachment:image.png)"
   ]
  },
  {
   "cell_type": "code",
   "execution_count": null,
   "id": "ba6fec26",
   "metadata": {},
   "outputs": [],
   "source": []
  }
 ],
 "metadata": {
  "kernelspec": {
   "display_name": "Python 3 (ipykernel)",
   "language": "python",
   "name": "python3"
  },
  "language_info": {
   "codemirror_mode": {
    "name": "ipython",
    "version": 3
   },
   "file_extension": ".py",
   "mimetype": "text/x-python",
   "name": "python",
   "nbconvert_exporter": "python",
   "pygments_lexer": "ipython3",
   "version": "3.8.13"
  }
 },
 "nbformat": 4,
 "nbformat_minor": 5
}
